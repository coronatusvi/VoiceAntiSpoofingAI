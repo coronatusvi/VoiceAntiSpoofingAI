{
 "cells": [
  {
   "cell_type": "markdown",
   "metadata": {},
   "source": [
    "### ASVspoof2019_LA_train"
   ]
  },
  {
   "cell_type": "code",
   "execution_count": 1,
   "metadata": {},
   "outputs": [
    {
     "name": "stdout",
     "output_type": "stream",
     "text": [
      "Processed ../LA/ASVspoof2019_LA_asv_scores/ASVspoof2019.LA.asv.dev.gi.trl.scores.txt: sampled 2954 lines, remaining 26590 lines saved to ../LA/ASVspoof2019_LA_asv_scores/ASVspoof2019.LA.asv.dev.gi.trl.scores.copy.txt\n",
      "Processed ../LA/ASVspoof2019_LA_asv_scores/ASVspoof2019.LA.asv.eval.gi.trl.scores.txt: sampled 10257 lines, remaining 92297 lines saved to ../LA/ASVspoof2019_LA_asv_scores/ASVspoof2019.LA.asv.eval.gi.trl.scores.copy.txt\n",
      "Processed ../LA/ASVspoof2019_LA_cm_protocols/ASVspoof2019.LA.cm.dev.trl.txt: sampled 2484 lines, remaining 22360 lines saved to ../LA/ASVspoof2019_LA_cm_protocols/ASVspoof2019.LA.cm.dev.trl.copy.txt\n",
      "Processed ../LA/ASVspoof2019_LA_cm_protocols/ASVspoof2019.LA.cm.eval.trl.txt: sampled 7123 lines, remaining 64114 lines saved to ../LA/ASVspoof2019_LA_cm_protocols/ASVspoof2019.LA.cm.eval.trl.copy.txt\n",
      "Processed ../LA/ASVspoof2019_LA_cm_protocols/ASVspoof2019.LA.cm.train.trn.txt: sampled 2538 lines, remaining 22842 lines saved to ../LA/ASVspoof2019_LA_cm_protocols/ASVspoof2019.LA.cm.train.trn.copy.txt\n",
      "Processed ../LA/ASVspoof2019_LA_asv_protocols/ASVspoof2019.LA.asv.dev.female.trl.txt: sampled 2036 lines, remaining 18328 lines saved to ../LA/ASVspoof2019_LA_asv_protocols/ASVspoof2019.LA.asv.dev.female.trl.copy.txt\n",
      "Processed ../LA/ASVspoof2019_LA_asv_protocols/ASVspoof2019.LA.asv.eval.female.trl.txt: sampled 6952 lines, remaining 62573 lines saved to ../LA/ASVspoof2019_LA_asv_protocols/ASVspoof2019.LA.asv.eval.female.trl.copy.txt\n",
      "Processed ../LA/ASVspoof2019_LA_asv_protocols/ASVspoof2019.LA.asv.dev.gi.trl.txt: sampled 2954 lines, remaining 26594 lines saved to ../LA/ASVspoof2019_LA_asv_protocols/ASVspoof2019.LA.asv.dev.gi.trl.copy.txt\n",
      "Processed ../LA/ASVspoof2019_LA_asv_protocols/ASVspoof2019.LA.asv.eval.male.trl.txt: sampled 3305 lines, remaining 29749 lines saved to ../LA/ASVspoof2019_LA_asv_protocols/ASVspoof2019.LA.asv.eval.male.trl.copy.txt\n",
      "Processed ../LA/ASVspoof2019_LA_asv_protocols/ASVspoof2019.LA.asv.eval.gi.trl.txt: sampled 10257 lines, remaining 92322 lines saved to ../LA/ASVspoof2019_LA_asv_protocols/ASVspoof2019.LA.asv.eval.gi.trl.copy.txt\n",
      "Processed ../LA/ASVspoof2019_LA_asv_protocols/ASVspoof2019.LA.asv.dev.male.trl.txt: sampled 918 lines, remaining 8266 lines saved to ../LA/ASVspoof2019_LA_asv_protocols/ASVspoof2019.LA.asv.dev.male.trl.copy.txt\n"
     ]
    }
   ],
   "source": [
    "import os\n",
    "import random\n",
    "\n",
    "files_to_process = [\n",
    "    '../LA/ASVspoof2019_LA_asv_scores/ASVspoof2019.LA.asv.dev.gi.trl.scores.txt',\n",
    "    '../LA/ASVspoof2019_LA_asv_scores/ASVspoof2019.LA.asv.eval.gi.trl.scores.txt',\n",
    "\n",
    "    '../LA/ASVspoof2019_LA_cm_protocols/ASVspoof2019.LA.cm.dev.trl.txt',\n",
    "    '../LA/ASVspoof2019_LA_cm_protocols/ASVspoof2019.LA.cm.eval.trl.txt',\n",
    "    '../LA/ASVspoof2019_LA_cm_protocols/ASVspoof2019.LA.cm.train.trn.txt',\n",
    "\n",
    "    '../LA/ASVspoof2019_LA_asv_protocols/ASVspoof2019.LA.asv.dev.female.trl.txt',\n",
    "    '../LA/ASVspoof2019_LA_asv_protocols/ASVspoof2019.LA.asv.eval.female.trl.txt',\n",
    "    '../LA/ASVspoof2019_LA_asv_protocols/ASVspoof2019.LA.asv.dev.gi.trl.txt',\n",
    "    '../LA/ASVspoof2019_LA_asv_protocols/ASVspoof2019.LA.asv.eval.male.trl.txt',\n",
    "    '../LA/ASVspoof2019_LA_asv_protocols/ASVspoof2019.LA.asv.eval.gi.trl.txt',\n",
    "    '../LA/ASVspoof2019_LA_asv_protocols/ASVspoof2019.LA.asv.dev.male.trl.txt'\n",
    "]\n",
    "\n",
    "def process_file(file_path):\n",
    "    with open(file_path, 'r') as f:\n",
    "        lines = f.readlines()\n",
    "\n",
    "    sampled_lines = random.sample(lines, int(len(lines) * 0.10))\n",
    "\n",
    "    remaining_lines = [line for line in lines if line not in sampled_lines]\n",
    "\n",
    "    with open(file_path, 'w') as f:\n",
    "        f.writelines(sampled_lines)\n",
    "\n",
    "    copy_file_path = file_path.replace('.txt', '.copy.txt')\n",
    "    with open(copy_file_path, 'w') as f:\n",
    "        f.writelines(remaining_lines)\n",
    "\n",
    "    print(f\"Processed {file_path}: sampled {len(sampled_lines)} lines, remaining {len(remaining_lines)} lines saved to {copy_file_path}\")\n",
    "\n",
    "for file_path in files_to_process:\n",
    "    process_file(file_path)"
   ]
  }
 ],
 "metadata": {
  "kernelspec": {
   "display_name": "geo-project",
   "language": "python",
   "name": "python3"
  },
  "language_info": {
   "codemirror_mode": {
    "name": "ipython",
    "version": 3
   },
   "file_extension": ".py",
   "mimetype": "text/x-python",
   "name": "python",
   "nbconvert_exporter": "python",
   "pygments_lexer": "ipython3",
   "version": "3.10.16"
  }
 },
 "nbformat": 4,
 "nbformat_minor": 2
}
