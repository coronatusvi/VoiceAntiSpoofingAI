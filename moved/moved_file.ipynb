{
 "cells": [
  {
   "cell_type": "markdown",
   "metadata": {},
   "source": [
    "### ASVspoof2019_LA_train"
   ]
  },
  {
   "cell_type": "code",
   "execution_count": null,
   "metadata": {},
   "outputs": [],
   "source": [
    "!unzip ../LA.zip -d ../                 "
   ]
  },
  {
   "cell_type": "code",
   "execution_count": 2,
   "metadata": {},
   "outputs": [
    {
     "name": "stdout",
     "output_type": "stream",
     "text": [
      "Processed ../LA/ASVspoof2019_LA_asv_scores/ASVspoof2019.LA.asv.dev.gi.trl.scores.txt: sampled 1477 lines, remaining 1477 lines saved to ../LA/ASVspoof2019_LA_asv_scores/ASVspoof2019.LA.asv.dev.gi.trl.scores.copy5.txt\n",
      "Processed ../LA/ASVspoof2019_LA_asv_scores/ASVspoof2019.LA.asv.eval.gi.trl.scores.txt: sampled 5128 lines, remaining 5129 lines saved to ../LA/ASVspoof2019_LA_asv_scores/ASVspoof2019.LA.asv.eval.gi.trl.scores.copy5.txt\n",
      "Processed ../LA/ASVspoof2019_LA_cm_protocols/ASVspoof2019.LA.cm.dev.trl.txt: sampled 1242 lines, remaining 1242 lines saved to ../LA/ASVspoof2019_LA_cm_protocols/ASVspoof2019.LA.cm.dev.trl.copy5.txt\n",
      "Processed ../LA/ASVspoof2019_LA_cm_protocols/ASVspoof2019.LA.cm.eval.trl.txt: sampled 3561 lines, remaining 3562 lines saved to ../LA/ASVspoof2019_LA_cm_protocols/ASVspoof2019.LA.cm.eval.trl.copy5.txt\n",
      "Processed ../LA/ASVspoof2019_LA_cm_protocols/ASVspoof2019.LA.cm.train.trn.txt: sampled 1269 lines, remaining 1269 lines saved to ../LA/ASVspoof2019_LA_cm_protocols/ASVspoof2019.LA.cm.train.trn.copy5.txt\n",
      "Processed ../LA/ASVspoof2019_LA_asv_protocols/ASVspoof2019.LA.asv.dev.female.trl.txt: sampled 1018 lines, remaining 1018 lines saved to ../LA/ASVspoof2019_LA_asv_protocols/ASVspoof2019.LA.asv.dev.female.trl.copy5.txt\n",
      "Processed ../LA/ASVspoof2019_LA_asv_protocols/ASVspoof2019.LA.asv.eval.female.trl.txt: sampled 3476 lines, remaining 3476 lines saved to ../LA/ASVspoof2019_LA_asv_protocols/ASVspoof2019.LA.asv.eval.female.trl.copy5.txt\n",
      "Processed ../LA/ASVspoof2019_LA_asv_protocols/ASVspoof2019.LA.asv.dev.gi.trl.txt: sampled 1477 lines, remaining 1477 lines saved to ../LA/ASVspoof2019_LA_asv_protocols/ASVspoof2019.LA.asv.dev.gi.trl.copy5.txt\n",
      "Processed ../LA/ASVspoof2019_LA_asv_protocols/ASVspoof2019.LA.asv.eval.male.trl.txt: sampled 1652 lines, remaining 1653 lines saved to ../LA/ASVspoof2019_LA_asv_protocols/ASVspoof2019.LA.asv.eval.male.trl.copy5.txt\n",
      "Processed ../LA/ASVspoof2019_LA_asv_protocols/ASVspoof2019.LA.asv.eval.gi.trl.txt: sampled 5128 lines, remaining 5129 lines saved to ../LA/ASVspoof2019_LA_asv_protocols/ASVspoof2019.LA.asv.eval.gi.trl.copy5.txt\n",
      "Processed ../LA/ASVspoof2019_LA_asv_protocols/ASVspoof2019.LA.asv.dev.male.trl.txt: sampled 459 lines, remaining 459 lines saved to ../LA/ASVspoof2019_LA_asv_protocols/ASVspoof2019.LA.asv.dev.male.trl.copy5.txt\n"
     ]
    }
   ],
   "source": [
    "import os\n",
    "import random\n",
    "\n",
    "files_to_process = [\n",
    "    '../LA/ASVspoof2019_LA_asv_scores/ASVspoof2019.LA.asv.dev.gi.trl.scores.txt',\n",
    "    '../LA/ASVspoof2019_LA_asv_scores/ASVspoof2019.LA.asv.eval.gi.trl.scores.txt',\n",
    "\n",
    "    '../LA/ASVspoof2019_LA_cm_protocols/ASVspoof2019.LA.cm.dev.trl.txt',\n",
    "    '../LA/ASVspoof2019_LA_cm_protocols/ASVspoof2019.LA.cm.eval.trl.txt',\n",
    "    '../LA/ASVspoof2019_LA_cm_protocols/ASVspoof2019.LA.cm.train.trn.txt',\n",
    "\n",
    "    '../LA/ASVspoof2019_LA_asv_protocols/ASVspoof2019.LA.asv.dev.female.trl.txt',\n",
    "    '../LA/ASVspoof2019_LA_asv_protocols/ASVspoof2019.LA.asv.eval.female.trl.txt',\n",
    "    '../LA/ASVspoof2019_LA_asv_protocols/ASVspoof2019.LA.asv.dev.gi.trl.txt',\n",
    "    '../LA/ASVspoof2019_LA_asv_protocols/ASVspoof2019.LA.asv.eval.male.trl.txt',\n",
    "    '../LA/ASVspoof2019_LA_asv_protocols/ASVspoof2019.LA.asv.eval.gi.trl.txt',\n",
    "    '../LA/ASVspoof2019_LA_asv_protocols/ASVspoof2019.LA.asv.dev.male.trl.txt'\n",
    "]\n",
    "\n",
    "def process_file(file_path):\n",
    "    copy_file_path = file_path.replace('.txt', '.copy.txt')\n",
    "\n",
    "    if not os.path.exists(copy_file_path):\n",
    "        with open(file_path, 'r') as f:\n",
    "            lines = f.readlines()\n",
    "\n",
    "        with open(copy_file_path, 'w') as f:\n",
    "            f.writelines(lines)\n",
    "\n",
    "        sampled_lines = random.sample(lines, int(len(lines) * 0.03))\n",
    "\n",
    "        with open(file_path, 'w') as f:\n",
    "            f.writelines(sampled_lines)\n",
    "\n",
    "        print(f\"Created {copy_file_path} and sampled {len(sampled_lines)} lines for {file_path}\")\n",
    "    else:\n",
    "        with open(copy_file_path, 'r') as f:\n",
    "            lines = f.readlines()\n",
    "\n",
    "        sampled_lines = random.sample(lines, int(len(lines) * 0.05))\n",
    "\n",
    "        with open(file_path, 'w') as f:\n",
    "            f.writelines(sampled_lines)\n",
    "\n",
    "        print(f\"Sampled {len(sampled_lines)} lines from {copy_file_path} for {file_path}\")\n",
    "\n",
    "for file_path in files_to_process:\n",
    "    process_file(file_path)"
   ]
  }
 ],
 "metadata": {
  "kernelspec": {
   "display_name": "geo-project",
   "language": "python",
   "name": "python3"
  },
  "language_info": {
   "codemirror_mode": {
    "name": "ipython",
    "version": 3
   },
   "file_extension": ".py",
   "mimetype": "text/x-python",
   "name": "python",
   "nbconvert_exporter": "python",
   "pygments_lexer": "ipython3",
   "version": "3.10.16"
  }
 },
 "nbformat": 4,
 "nbformat_minor": 2
}
