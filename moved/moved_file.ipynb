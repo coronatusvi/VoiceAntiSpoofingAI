{
 "cells": [
  {
   "cell_type": "markdown",
   "metadata": {},
   "source": [
    "### ASVspoof2019_LA_train"
   ]
  },
  {
   "cell_type": "code",
   "execution_count": 2,
   "metadata": {},
   "outputs": [
    {
     "name": "stdout",
     "output_type": "stream",
     "text": [
      "Processed ../LA/ASVspoof2019_LA_asv_scores/ASVspoof2019.LA.asv.dev.gi.trl.scores.txt: sampled 5128 lines, remaining 97441 lines saved to ../LA/ASVspoof2019_LA_asv_scores/ASVspoof2019.LA.asv.dev.gi.trl.scores.copy.txt\n",
      "Processed ../LA/ASVspoof2019_LA_asv_scores/ASVspoof2019.LA.asv.eval.gi.trl.scores.txt: sampled 6 lines, remaining 121 lines saved to ../LA/ASVspoof2019_LA_asv_scores/ASVspoof2019.LA.asv.eval.gi.trl.scores.copy.txt\n",
      "Processed ../LA/ASVspoof2019_LA_cm_protocols/ASVspoof2019.LA.cm.dev.trl.txt: sampled 1242 lines, remaining 23602 lines saved to ../LA/ASVspoof2019_LA_cm_protocols/ASVspoof2019.LA.cm.dev.trl.copy.txt\n",
      "Processed ../LA/ASVspoof2019_LA_cm_protocols/ASVspoof2019.LA.cm.eval.trl.txt: sampled 3561 lines, remaining 67676 lines saved to ../LA/ASVspoof2019_LA_cm_protocols/ASVspoof2019.LA.cm.eval.trl.copy.txt\n",
      "Processed ../LA/ASVspoof2019_LA_cm_protocols/ASVspoof2019.LA.cm.train.trn.txt: sampled 1269 lines, remaining 24111 lines saved to ../LA/ASVspoof2019_LA_cm_protocols/ASVspoof2019.LA.cm.train.trn.copy.txt\n",
      "Processed ../LA/ASVspoof2019_LA_asv_protocols/ASVspoof2019.LA.asv.dev.female.trl.txt: sampled 1018 lines, remaining 19346 lines saved to ../LA/ASVspoof2019_LA_asv_protocols/ASVspoof2019.LA.asv.dev.female.trl.copy.txt\n",
      "Processed ../LA/ASVspoof2019_LA_asv_protocols/ASVspoof2019.LA.asv.eval.female.trl.txt: sampled 3476 lines, remaining 66049 lines saved to ../LA/ASVspoof2019_LA_asv_protocols/ASVspoof2019.LA.asv.eval.female.trl.copy.txt\n",
      "Processed ../LA/ASVspoof2019_LA_asv_protocols/ASVspoof2019.LA.asv.dev.gi.trl.txt: sampled 1477 lines, remaining 28071 lines saved to ../LA/ASVspoof2019_LA_asv_protocols/ASVspoof2019.LA.asv.dev.gi.trl.copy.txt\n",
      "Processed ../LA/ASVspoof2019_LA_asv_protocols/ASVspoof2019.LA.asv.eval.male.trl.txt: sampled 1652 lines, remaining 31402 lines saved to ../LA/ASVspoof2019_LA_asv_protocols/ASVspoof2019.LA.asv.eval.male.trl.copy.txt\n",
      "Processed ../LA/ASVspoof2019_LA_asv_protocols/ASVspoof2019.LA.asv.eval.gi.trl.txt: sampled 5128 lines, remaining 97451 lines saved to ../LA/ASVspoof2019_LA_asv_protocols/ASVspoof2019.LA.asv.eval.gi.trl.copy.txt\n",
      "Processed ../LA/ASVspoof2019_LA_asv_protocols/ASVspoof2019.LA.asv.dev.male.trl.txt: sampled 459 lines, remaining 8725 lines saved to ../LA/ASVspoof2019_LA_asv_protocols/ASVspoof2019.LA.asv.dev.male.trl.copy.txt\n"
     ]
    }
   ],
   "source": [
    "import os\n",
    "import random\n",
    "\n",
    "# Danh sách các file cần xử lý\n",
    "files_to_process = [\n",
    "    '../LA/ASVspoof2019_LA_asv_scores/ASVspoof2019.LA.asv.dev.gi.trl.scores.txt',\n",
    "    '../LA/ASVspoof2019_LA_asv_scores/ASVspoof2019.LA.asv.eval.gi.trl.scores.txt',\n",
    "\n",
    "    '../LA/ASVspoof2019_LA_cm_protocols/ASVspoof2019.LA.cm.dev.trl.txt',\n",
    "    '../LA/ASVspoof2019_LA_cm_protocols/ASVspoof2019.LA.cm.eval.trl.txt',\n",
    "    '../LA/ASVspoof2019_LA_cm_protocols/ASVspoof2019.LA.cm.train.trn.txt',\n",
    "\n",
    "    '../LA/ASVspoof2019_LA_asv_protocols/ASVspoof2019.LA.asv.dev.female.trl.txt',\n",
    "    '../LA/ASVspoof2019_LA_asv_protocols/ASVspoof2019.LA.asv.eval.female.trl.txt',\n",
    "    '../LA/ASVspoof2019_LA_asv_protocols/ASVspoof2019.LA.asv.dev.gi.trl.txt',\n",
    "    '../LA/ASVspoof2019_LA_asv_protocols/ASVspoof2019.LA.asv.eval.male.trl.txt',\n",
    "    '../LA/ASVspoof2019_LA_asv_protocols/ASVspoof2019.LA.asv.eval.gi.trl.txt',\n",
    "    '../LA/ASVspoof2019_LA_asv_protocols/ASVspoof2019.LA.asv.dev.male.trl.txt'\n",
    "]\n",
    "\n",
    "# Hàm xử lý từng file\n",
    "def process_file(file_path):\n",
    "    with open(file_path, 'r') as f:\n",
    "        lines = f.readlines()\n",
    "\n",
    "    # Lấy mẫu ngẫu nhiên 5% của dữ liệu\n",
    "    sampled_lines = random.sample(lines, int(len(lines) * 0.05))\n",
    "\n",
    "    # Phần còn lại 95%\n",
    "    remaining_lines = [line for line in lines if line not in sampled_lines]\n",
    "\n",
    "    # Ghi các dòng đã lấy mẫu vào file gốc\n",
    "    with open(file_path, 'w') as f:\n",
    "        f.writelines(sampled_lines)\n",
    "\n",
    "    # Ghi phần còn lại vào file mới với hậu tố 'copy'\n",
    "    copy_file_path = file_path.replace('.txt', '.copy.txt')\n",
    "    with open(copy_file_path, 'w') as f:\n",
    "        f.writelines(remaining_lines)\n",
    "\n",
    "    print(f\"Processed {file_path}: sampled {len(sampled_lines)} lines, remaining {len(remaining_lines)} lines saved to {copy_file_path}\")\n",
    "\n",
    "# Xử lý từng file trong danh sách\n",
    "for file_path in files_to_process:\n",
    "    process_file(file_path)"
   ]
  }
 ],
 "metadata": {
  "kernelspec": {
   "display_name": "geo-project",
   "language": "python",
   "name": "python3"
  },
  "language_info": {
   "codemirror_mode": {
    "name": "ipython",
    "version": 3
   },
   "file_extension": ".py",
   "mimetype": "text/x-python",
   "name": "python",
   "nbconvert_exporter": "python",
   "pygments_lexer": "ipython3",
   "version": "3.10.16"
  }
 },
 "nbformat": 4,
 "nbformat_minor": 2
}
